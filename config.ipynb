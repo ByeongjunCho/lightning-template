{
 "cells": [
  {
   "cell_type": "code",
   "execution_count": 2,
   "metadata": {},
   "outputs": [],
   "source": [
    "import yaml\n",
    "import datetime\n",
    "from omegaconf import OmegaConf\n",
    "config_path = '/Users/byeongjuncho/PythonProject/etc/template/lightning_template_config.yaml'\n",
    "config_omega = OmegaConf.load(config_path)\n",
    "with open(config_path, 'r') as f:\n",
    "    config_yaml = yaml.safe_load(f)\n",
    "    \n"
   ]
  },
  {
   "cell_type": "code",
   "execution_count": 3,
   "metadata": {},
   "outputs": [
    {
     "data": {
      "text/plain": [
       "{'path': {'save_path': './ckpt', 'resume': None}, 'train_parameters': {'batch_size': 16, 'lr': 0.0001, 'class_num': 10}, 'trainer': {'callback': {'ModelCheckpoint': {'save_top_k': -1, 'save_last': True, 'save_weights_only': False, 'every_n_epochs': 1}, 'LearningRateMonitor': {'logging_interval': 'step', 'log_momentum': True}, 'EarlyStopping': {'monitor': 'val_loss', 'min_delta': 0, 'patience': 20, 'verbose': False, 'mode': 'min'}}, 'logger': {'WandbLogger': {'project': 'dummy', 'name': 'dummy', 'version': None, 'log_model': False, 'group': None, 'resume': None, 'id': None}, 'TensorBoardLogger': {'log_graph': True}, 'wandblogger_watch': {'log': 'all', 'log_freq': 100, 'log_graph': False}}, 'init': {'accelerator': 'mps', 'accumulate_grad_batches': 1, 'check_val_every_n_epoch': 1, 'devices': [0], 'fast_dev_run': False, 'gradient_clip_val': None, 'limit_train_batches': 0.2, 'limit_test_batches': 0.2, 'limit_val_batches': 0.2, 'log_every_n_steps': 50, 'max_epochs': 10, 'max_steps': -1, 'num_nodes': 1, 'num_sanity_val_steps': 2, 'precision': '16-mixed', 'profiler': None, 'val_check_interval': 1.0, 'detect_anomaly': True}, 'fit': {'ckpt_path': None}}, 'etc': {'seed': 42}}"
      ]
     },
     "execution_count": 3,
     "metadata": {},
     "output_type": "execute_result"
    }
   ],
   "source": [
    "config_omega"
   ]
  },
  {
   "cell_type": "code",
   "execution_count": 7,
   "metadata": {},
   "outputs": [
    {
     "data": {
      "text/plain": [
       "{'save_path': './ckpt', 'resume': None}"
      ]
     },
     "execution_count": 7,
     "metadata": {},
     "output_type": "execute_result"
    }
   ],
   "source": [
    "config_omega.path"
   ]
  },
  {
   "cell_type": "code",
   "execution_count": 5,
   "metadata": {},
   "outputs": [
    {
     "data": {
      "text/plain": [
       "{'path': {'save_path': './ckpt', 'resume': None},\n",
       " 'train_parameters': {'batch_size': 16, 'lr': '1e-4', 'class_num': 10},\n",
       " 'trainer': {'callback': {'ModelCheckpoint': {'save_top_k': -1,\n",
       "    'save_last': True,\n",
       "    'save_weights_only': False,\n",
       "    'every_n_epochs': 1},\n",
       "   'LearningRateMonitor': {'logging_interval': 'step', 'log_momentum': True},\n",
       "   'EarlyStopping': {'monitor': 'val_loss',\n",
       "    'min_delta': 0,\n",
       "    'patience': 20,\n",
       "    'verbose': False,\n",
       "    'mode': 'min'}},\n",
       "  'logger': {'WandbLogger': {'project': 'dummy',\n",
       "    'name': 'dummy',\n",
       "    'version': None,\n",
       "    'log_model': False,\n",
       "    'group': None,\n",
       "    'resume': None,\n",
       "    'id': None},\n",
       "   'TensorBoardLogger': {'log_graph': True},\n",
       "   'wandblogger_watch': {'log': 'all', 'log_freq': 100, 'log_graph': False}},\n",
       "  'init': {'accelerator': 'mps',\n",
       "   'accumulate_grad_batches': 1,\n",
       "   'check_val_every_n_epoch': 1,\n",
       "   'devices': [0],\n",
       "   'fast_dev_run': False,\n",
       "   'gradient_clip_val': None,\n",
       "   'limit_train_batches': 0.2,\n",
       "   'limit_test_batches': 0.2,\n",
       "   'limit_val_batches': 0.2,\n",
       "   'log_every_n_steps': 50,\n",
       "   'max_epochs': 10,\n",
       "   'max_steps': -1,\n",
       "   'num_nodes': 1,\n",
       "   'num_sanity_val_steps': 2,\n",
       "   'precision': '16-mixed',\n",
       "   'profiler': None,\n",
       "   'val_check_interval': 1.0,\n",
       "   'detect_anomaly': True},\n",
       "  'fit': {'ckpt_path': None}},\n",
       " 'etc': {'seed': 42}}"
      ]
     },
     "execution_count": 5,
     "metadata": {},
     "output_type": "execute_result"
    }
   ],
   "source": [
    "config_yaml"
   ]
  }
 ],
 "metadata": {
  "kernelspec": {
   "display_name": "base",
   "language": "python",
   "name": "python3"
  },
  "language_info": {
   "codemirror_mode": {
    "name": "ipython",
    "version": 3
   },
   "file_extension": ".py",
   "mimetype": "text/x-python",
   "name": "python",
   "nbconvert_exporter": "python",
   "pygments_lexer": "ipython3",
   "version": "3.10.12"
  },
  "orig_nbformat": 4
 },
 "nbformat": 4,
 "nbformat_minor": 2
}
